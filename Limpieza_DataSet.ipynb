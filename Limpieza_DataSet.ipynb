{
  "nbformat": 4,
  "nbformat_minor": 0,
  "metadata": {
    "colab": {
      "name": "Limpieza_DataSet.ipynb",
      "provenance": [],
      "authorship_tag": "ABX9TyPM/3mfuaYgCp5jHfpNsfyj",
      "include_colab_link": true
    },
    "kernelspec": {
      "name": "python3",
      "display_name": "Python 3"
    }
  },
  "cells": [
    {
      "cell_type": "markdown",
      "metadata": {
        "id": "view-in-github",
        "colab_type": "text"
      },
      "source": [
        "<a href=\"https://colab.research.google.com/github/eliot28/analisis_texto/blob/master/Limpieza_DataSet.ipynb\" target=\"_parent\"><img src=\"https://colab.research.google.com/assets/colab-badge.svg\" alt=\"Open In Colab\"/></a>"
      ]
    },
    {
      "cell_type": "code",
      "metadata": {
        "id": "WCYmRcLiKHpq",
        "colab_type": "code",
        "colab": {
          "base_uri": "https://localhost:8080/",
          "height": 118
        },
        "outputId": "d82f4a15-4168-4b18-9df0-f2eb4a4a4b4a"
      },
      "source": [
        "import pandas as pd\n",
        "from google.colab import drive\n",
        "drive.mount(\"/content/drive\")"
      ],
      "execution_count": 1,
      "outputs": [
        {
          "output_type": "stream",
          "text": [
            "Go to this URL in a browser: https://accounts.google.com/o/oauth2/auth?client_id=947318989803-6bn6qk8qdgf4n4g3pfee6491hc0brc4i.apps.googleusercontent.com&redirect_uri=urn%3aietf%3awg%3aoauth%3a2.0%3aoob&response_type=code&scope=email%20https%3a%2f%2fwww.googleapis.com%2fauth%2fdocs.test%20https%3a%2f%2fwww.googleapis.com%2fauth%2fdrive%20https%3a%2f%2fwww.googleapis.com%2fauth%2fdrive.photos.readonly%20https%3a%2f%2fwww.googleapis.com%2fauth%2fpeopleapi.readonly\n",
            "\n",
            "Enter your authorization code:\n",
            "··········\n",
            "Mounted at /content/drive\n"
          ],
          "name": "stdout"
        }
      ]
    },
    {
      "cell_type": "code",
      "metadata": {
        "id": "qg90023LLfaa",
        "colab_type": "code",
        "colab": {}
      },
      "source": [
        "df = pd.read_csv('/content/drive/My Drive/Diplomado Ing. Ciencia Datos/Taller de Proyecto/Dataset/DataSet_SOC.csv')"
      ],
      "execution_count": 24,
      "outputs": []
    },
    {
      "cell_type": "code",
      "metadata": {
        "id": "a0RFhrRaL9aX",
        "colab_type": "code",
        "colab": {
          "base_uri": "https://localhost:8080/",
          "height": 456
        },
        "outputId": "a9cbffd6-df3b-4c80-d316-528cb1dc8012"
      },
      "source": [
        "columnas = pd.DataFrame(df.dtypes)\n",
        "print(columnas)"
      ],
      "execution_count": 25,
      "outputs": [
        {
          "output_type": "stream",
          "text": [
            "                                  0\n",
            "Unnamed: 0                    int64\n",
            "SUBORDEN                      int64\n",
            "FECHA_COMPRA                 object\n",
            "METODO_DESPACHO              object\n",
            "FECHA_PACTADA                object\n",
            "FECHA_ENTREGA                object\n",
            "DIAS_COMPRA_PACTADA           int64\n",
            "DIAS_COMPRA_ENTREGA           int64\n",
            "ABASTECIMIENTO               object\n",
            "DESPACHO_DIRECTO_PROVEEDOR    int64\n",
            "PRECIO_SUBORDEN               int64\n",
            "PRECIO_DESPACHO             float64\n",
            "METODO_PAGO                  object\n",
            "CATEGORIA                    object\n",
            "PESO_KG                     float64\n",
            "VOLUMEN_M3                  float64\n",
            "BIG_TICKET                    int64\n",
            "COMUNA                       object\n",
            "EMPRESA_TRASPORTISTA         object\n",
            "CUMPLIMIENTO                  int64\n",
            "RECLAMO                       int64\n",
            "FECHA_RECLAMO                object\n",
            "DIAS_RECLAMO                float64\n",
            "DIAS_INCUMPLIMIENTO           int64\n",
            "EDAD                        float64\n",
            "SEXO                         object\n"
          ],
          "name": "stdout"
        }
      ]
    },
    {
      "cell_type": "code",
      "metadata": {
        "id": "7rv9i2X4NPjn",
        "colab_type": "code",
        "colab": {
          "base_uri": "https://localhost:8080/",
          "height": 33
        },
        "outputId": "c10a61e5-7c29-4e40-8a6a-8f8bec68efdc"
      },
      "source": [
        "len(df)"
      ],
      "execution_count": 26,
      "outputs": [
        {
          "output_type": "execute_result",
          "data": {
            "text/plain": [
              "1972865"
            ]
          },
          "metadata": {
            "tags": []
          },
          "execution_count": 26
        }
      ]
    },
    {
      "cell_type": "code",
      "metadata": {
        "id": "wJq_9p4609wj",
        "colab_type": "code",
        "colab": {
          "base_uri": "https://localhost:8080/",
          "height": 456
        },
        "outputId": "28226281-190e-4631-8df1-6a89725f65d2"
      },
      "source": [
        "df['ABASTECIMIENTO'].value_counts()"
      ],
      "execution_count": 27,
      "outputs": [
        {
          "output_type": "execute_result",
          "data": {
            "text/plain": [
              "CD Omnicanal LOF2                               632606\n",
              "Venta a Distancia                               481433\n",
              "(CT Venta en Verde)  FALABELLA RETAIL S.A.      384113\n",
              "(CD Santiago) FALABELLA RETAIL S.A.             182056\n",
              "CT PERFUMERIA                                   120122\n",
              "CT BIG TICKET DVD                                53746\n",
              "Proveedor                                        39201\n",
              "CT HUB-CROSS DOCK MUEBLES                        25173\n",
              "CT ESTACIONALES                                  24846\n",
              "CT HUB-CROSS DOCK                                23108\n",
              "(Plaza Egaña) FALABELLA RETAIL S.A.               1967\n",
              "(Plaza Vespucio)  FALABELLA RETAIL S.A.            796\n",
              "(Falabella Gris Lyon) FALABELLA RETAIL S.A.        761\n",
              "(Lyon)   FALABELLA RETAIL S.A.                     609\n",
              "(Plaza Oeste)  FALABELLA RETAIL S.A.               577\n",
              "(Tobalaba)  FALABELLA RETAIL S.A.                  307\n",
              "(Mall Arauco Maipú) Falabella Retail S.A.          302\n",
              "(Tienda Los Dominicos) FALABELLA RETAIL S.A.       287\n",
              "(Manquehue) FALABELLA RETAIL S.A.                  233\n",
              "(Plaza Norte)  FALABELLA RETAIL S.A.               213\n",
              "(Parque Arauco)  FALABELLA RETAIL S.A.             136\n",
              "CT MANQUEHUE                                       125\n",
              "(Alto las Condes)  FALABELLA RETAIL S.A.           101\n",
              "(Costanera Center) Falabella Retail S.A.            34\n",
              "(CT Express) Falabella Retail S.A.                   9\n",
              "(Mango Parque Arauco)  FALABELLA RETAIL S.A.         4\n",
              "Name: ABASTECIMIENTO, dtype: int64"
            ]
          },
          "metadata": {
            "tags": []
          },
          "execution_count": 27
        }
      ]
    },
    {
      "cell_type": "markdown",
      "metadata": {
        "id": "x3OyXu0V9l5o",
        "colab_type": "text"
      },
      "source": [
        "Remplazar texto que diga falabella"
      ]
    },
    {
      "cell_type": "code",
      "metadata": {
        "id": "ohmEpwA59lfi",
        "colab_type": "code",
        "colab": {
          "base_uri": "https://localhost:8080/",
          "height": 456
        },
        "outputId": "74d710cb-d891-4527-ab9a-4a77897a9afb"
      },
      "source": [
        "df['ABASTECIMIENTO']=df['ABASTECIMIENTO'].apply(lambda x: x. replace('FALABELLA RETAIL S.A.', ''))\n",
        "df['ABASTECIMIENTO']=df['ABASTECIMIENTO'].apply(lambda x: x. replace('Falabella Retail S.A.', ''))\n",
        "df['ABASTECIMIENTO'].value_counts()"
      ],
      "execution_count": 28,
      "outputs": [
        {
          "output_type": "execute_result",
          "data": {
            "text/plain": [
              "CD Omnicanal LOF2            632606\n",
              "Venta a Distancia            481433\n",
              "(CT Venta en Verde)          384113\n",
              "(CD Santiago)                182056\n",
              "CT PERFUMERIA                120122\n",
              "CT BIG TICKET DVD             53746\n",
              "Proveedor                     39201\n",
              "CT HUB-CROSS DOCK MUEBLES     25173\n",
              "CT ESTACIONALES               24846\n",
              "CT HUB-CROSS DOCK             23108\n",
              "(Plaza Egaña)                  1967\n",
              "(Plaza Vespucio)                796\n",
              "(Falabella Gris Lyon)           761\n",
              "(Lyon)                          609\n",
              "(Plaza Oeste)                   577\n",
              "(Tobalaba)                      307\n",
              "(Mall Arauco Maipú)             302\n",
              "(Tienda Los Dominicos)          287\n",
              "(Manquehue)                     233\n",
              "(Plaza Norte)                   213\n",
              "(Parque Arauco)                 136\n",
              "CT MANQUEHUE                    125\n",
              "(Alto las Condes)               101\n",
              "(Costanera Center)               34\n",
              "(CT Express)                      9\n",
              "(Mango Parque Arauco)             4\n",
              "Name: ABASTECIMIENTO, dtype: int64"
            ]
          },
          "metadata": {
            "tags": []
          },
          "execution_count": 28
        }
      ]
    },
    {
      "cell_type": "markdown",
      "metadata": {
        "id": "wmb_tT9wOHZ3",
        "colab_type": "text"
      },
      "source": [
        "Cliente F"
      ]
    },
    {
      "cell_type": "code",
      "metadata": {
        "id": "B_aZsdHj00wy",
        "colab_type": "code",
        "colab": {
          "base_uri": "https://localhost:8080/",
          "height": 66
        },
        "outputId": "451498cd-41fe-435c-8ae7-3528490255d7"
      },
      "source": [
        "df['CATEGORIA'].value_counts()"
      ],
      "execution_count": 29,
      "outputs": [
        {
          "output_type": "execute_result",
          "data": {
            "text/plain": [
              "CLIENTE_NORMAL    1254114\n",
              "CLIENTE_F          718751\n",
              "Name: CATEGORIA, dtype: int64"
            ]
          },
          "metadata": {
            "tags": []
          },
          "execution_count": 29
        }
      ]
    },
    {
      "cell_type": "code",
      "metadata": {
        "id": "bAMP-XK2OUv3",
        "colab_type": "code",
        "colab": {
          "base_uri": "https://localhost:8080/",
          "height": 66
        },
        "outputId": "53f43418-852e-445e-ed71-f6acdc0dd36b"
      },
      "source": [
        "df['CATEGORIA'] = df['CATEGORIA'].apply(lambda x: x. replace('CLIENTE_NORMAL', '0'))\n",
        "df['CATEGORIA'] = df['CATEGORIA'].apply(lambda x: x. replace('CLIENTE_F', '1'))\n",
        "df['CATEGORIA'].value_counts()"
      ],
      "execution_count": 30,
      "outputs": [
        {
          "output_type": "execute_result",
          "data": {
            "text/plain": [
              "0    1254114\n",
              "1     718751\n",
              "Name: CATEGORIA, dtype: int64"
            ]
          },
          "metadata": {
            "tags": []
          },
          "execution_count": 30
        }
      ]
    },
    {
      "cell_type": "code",
      "metadata": {
        "id": "1QXRoNhNQl9t",
        "colab_type": "code",
        "colab": {}
      },
      "source": [
        "df = df.rename(columns={'CATEGORIA':'CLIENTE_FRECUENTE'})"
      ],
      "execution_count": 31,
      "outputs": []
    },
    {
      "cell_type": "code",
      "metadata": {
        "id": "tv5-QzqTSHvd",
        "colab_type": "code",
        "colab": {
          "base_uri": "https://localhost:8080/",
          "height": 456
        },
        "outputId": "760060e9-3f16-4541-ed20-e3880d2a44af"
      },
      "source": [
        "columnas = pd.DataFrame(df.dtypes)\n",
        "print(columnas)"
      ],
      "execution_count": 32,
      "outputs": [
        {
          "output_type": "stream",
          "text": [
            "                                  0\n",
            "Unnamed: 0                    int64\n",
            "SUBORDEN                      int64\n",
            "FECHA_COMPRA                 object\n",
            "METODO_DESPACHO              object\n",
            "FECHA_PACTADA                object\n",
            "FECHA_ENTREGA                object\n",
            "DIAS_COMPRA_PACTADA           int64\n",
            "DIAS_COMPRA_ENTREGA           int64\n",
            "ABASTECIMIENTO               object\n",
            "DESPACHO_DIRECTO_PROVEEDOR    int64\n",
            "PRECIO_SUBORDEN               int64\n",
            "PRECIO_DESPACHO             float64\n",
            "METODO_PAGO                  object\n",
            "CLIENTE_FRECUENTE            object\n",
            "PESO_KG                     float64\n",
            "VOLUMEN_M3                  float64\n",
            "BIG_TICKET                    int64\n",
            "COMUNA                       object\n",
            "EMPRESA_TRASPORTISTA         object\n",
            "CUMPLIMIENTO                  int64\n",
            "RECLAMO                       int64\n",
            "FECHA_RECLAMO                object\n",
            "DIAS_RECLAMO                float64\n",
            "DIAS_INCUMPLIMIENTO           int64\n",
            "EDAD                        float64\n",
            "SEXO                         object\n"
          ],
          "name": "stdout"
        }
      ]
    },
    {
      "cell_type": "code",
      "metadata": {
        "id": "yOx5UAPUTiNs",
        "colab_type": "code",
        "colab": {}
      },
      "source": [
        "df = df.drop(columns=['Unnamed: 0'])"
      ],
      "execution_count": 33,
      "outputs": []
    },
    {
      "cell_type": "code",
      "metadata": {
        "id": "djwF2aZlTYu4",
        "colab_type": "code",
        "colab": {
          "base_uri": "https://localhost:8080/",
          "height": 228
        },
        "outputId": "6b38a537-58cf-4e77-9b25-1fd9d2ca6b6c"
      },
      "source": [
        "vista = df.head(10)\n",
        "print(vista)"
      ],
      "execution_count": 34,
      "outputs": [
        {
          "output_type": "stream",
          "text": [
            "       SUBORDEN         FECHA_COMPRA  ... EDAD SEXO\n",
            "0  144045662486  2020-03-09 19:19:46  ...  NaN  NaN\n",
            "1  144045662486  2020-03-09 19:19:46  ...  NaN  NaN\n",
            "2  144045345573  2020-03-01 17:52:44  ...  NaN  NaN\n",
            "3  144045894549  2020-03-15 10:03:26  ...  NaN  NaN\n",
            "4  144045325289  2020-03-01 02:11:04  ...  NaN  NaN\n",
            "5  144045764040  2020-03-11 20:26:53  ...  NaN  NaN\n",
            "6  144045917855  2020-03-15 22:49:00  ...  NaN  NaN\n",
            "7  144045855358  2020-03-13 23:41:28  ...  NaN  NaN\n",
            "8  144045852751  2020-03-13 23:38:31  ...  NaN  NaN\n",
            "9  144045626548  2020-03-08 18:54:36  ...  NaN  NaN\n",
            "\n",
            "[10 rows x 25 columns]\n"
          ],
          "name": "stdout"
        }
      ]
    },
    {
      "cell_type": "code",
      "metadata": {
        "id": "OQ4hnFPQSwI2",
        "colab_type": "code",
        "colab": {}
      },
      "source": [
        "df.to_csv('/content/drive/My Drive/Diplomado Ing. Ciencia Datos/Taller de Proyecto/Dataset/DataSet_SOC.csv',index=False)"
      ],
      "execution_count": 35,
      "outputs": []
    },
    {
      "cell_type": "code",
      "metadata": {
        "id": "8Jiwvb3qUq37",
        "colab_type": "code",
        "colab": {}
      },
      "source": [
        ""
      ],
      "execution_count": null,
      "outputs": []
    }
  ]
}