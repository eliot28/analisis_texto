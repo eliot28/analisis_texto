{
 "cells": [
  {
   "cell_type": "markdown",
   "metadata": {},
   "source": [
    "# Ejemplos de uso de word embeddings computados con FastText\n",
    "\n",
    "Primero cargamos los vectores/embeddings usando [gensim](https://radimrehurek.com/gensim/). Hay al menos dos formas posibles. La primera es cargar todos los vectores desde el archivo binario (.bin) en su formato nativo de FastText. Esta opción es más demandante en recursos (tiempo y memoria), pero es mucho más versatil por ejemplo para obtener vectores para palabras que no se ecuentran en el vocabulario. Esta forma se encuentra comentada en la siguiente celda"
   ]
  },
  {
   "cell_type": "code",
   "execution_count": 1,
   "metadata": {
    "collapsed": true
   },
   "outputs": [],
   "source": [
    "# opción 1: cargar todos los vectores desde el formato binario (lento, requiere mucha memoria)\n",
    "# from gensim.models.wrappers import FastText\n",
    "# wordvectors_file = 'fasttext-sbwc.3.6.e20'\n",
    "# wordvectors = FastText.load_fasttext_format(wordvectors_file)"
   ]
  },
  {
   "cell_type": "markdown",
   "metadata": {},
   "source": [
    "La segunda forma, mucho más rápida, es cargar sólo una parte de los vectores. Para esto usamos el formato nativo de word2vec y cargamos una cantidad fija de vectores (se pueden cargar vectores generados por diversos métodos como FastText)."
   ]
  },
  {
   "cell_type": "code",
   "execution_count": 3,
   "metadata": {},
   "outputs": [],
   "source": [
    "# opción 2: cargar una cantidad fija de vectores (más rápido dependiendo de la cantidad cargada)\n",
    "from gensim.models.keyedvectors import KeyedVectors\n",
    "wordvectors_file_vec = 'fasttext-sbwc.3.6.e20.vec'\n",
    "cantidad = 100000\n",
    "wordvectors = KeyedVectors.load_word2vec_format(wordvectors_file_vec, limit=cantidad)"
   ]
  },
  {
   "cell_type": "markdown",
   "metadata": {},
   "source": [
    "## Word vectors en analogías\n",
    "\n",
    "Ejemplo de uso: `most_similar_cosmul(positive=lista_palabras_positivas, negative=lista_palabras_negativas)`\n",
    "\n",
    "Esta llamada encuentra las palabras del vocabulario que están más cercanas a las palabras en `listas_palabras_positivas` y no estén cercanas a `lista_palabras_negativas` (para una formalización del procedimiento, ver la fórmula (4) en la Sección 6 de [este artículo](http://www.aclweb.org/anthology/W14-1618)).\n",
    "\n",
    "Cuando `lista_palabras_positivas` contiene dos palabras, digamos `a` y `b_p`, y `lista_palabras_negativas` contiene una palabra, digamos `a_p`, el anterior procedimiento se lee coloquialmente como el encontrar la palabra `b` que responde a la pregunta: `a_p` es a `a` como `b_p` es a ???. El ejemplo clásico se tiene cuando `a` es `rey`, `b_p` es `mujer`, y `a_p` es `hombre`. La palabra buscada `b` es `reina`, pues `hombre` es a `rey` como `mujer` es a `reina`. (Personalmente considero que la intuición de palabras  más lejanas y más cercanas es mucho mejor que la de analogías, pero la de analogías es más común en los tutoriales de word embeddings). "
   ]
  },
  {
   "cell_type": "markdown",
   "metadata": {},
   "source": [
    "### Ejemplos considerando género"
   ]
  },
  {
   "cell_type": "code",
   "execution_count": 4,
   "metadata": {},
   "outputs": [
    {
     "data": {
      "text/plain": [
       "[('reina', 0.9141066670417786),\n",
       " ('isabel', 0.8743277192115784),\n",
       " ('princesa', 0.843113124370575),\n",
       " ('infanta', 0.8425983190536499),\n",
       " ('monarca', 0.8357319831848145),\n",
       " ('hija', 0.8211697340011597),\n",
       " ('consorte', 0.8179485201835632),\n",
       " ('iv', 0.813984215259552),\n",
       " ('esposa', 0.8115168213844299),\n",
       " ('ii', 0.8099035620689392)]"
      ]
     },
     "execution_count": 4,
     "metadata": {},
     "output_type": "execute_result"
    }
   ],
   "source": [
    "wordvectors.most_similar_cosmul(positive=['rey','mujer'],negative=['hombre'])"
   ]
  },
  {
   "cell_type": "code",
   "execution_count": 5,
   "metadata": {},
   "outputs": [
    {
     "data": {
      "text/plain": [
       "[('actriz', 0.9732905030250549),\n",
       " ('actores', 0.8580312728881836),\n",
       " ('actrices', 0.8464058041572571),\n",
       " ('cantante', 0.8347789645195007),\n",
       " ('reparto', 0.8277631402015686),\n",
       " ('protagonista', 0.8202100396156311),\n",
       " ('invitada', 0.8101590871810913),\n",
       " ('papel', 0.8021049499511719),\n",
       " ('guionista', 0.7968517541885376),\n",
       " ('intérprete', 0.7961310744285583)]"
      ]
     },
     "execution_count": 5,
     "metadata": {},
     "output_type": "execute_result"
    }
   ],
   "source": [
    "wordvectors.most_similar_cosmul(positive=['actor','mujer'],negative=['hombre'])"
   ]
  },
  {
   "cell_type": "code",
   "execution_count": 6,
   "metadata": {},
   "outputs": [
    {
     "data": {
      "text/plain": [
       "[('hija', 0.9856907725334167),\n",
       " ('esposa', 0.9255169034004211),\n",
       " ('hijos', 0.9249492883682251),\n",
       " ('madre', 0.9138885736465454),\n",
       " ('hermana', 0.8996301889419556),\n",
       " ('hijas', 0.8754291534423828),\n",
       " ('casó', 0.8729564547538757),\n",
       " ('matrimonio', 0.8709645867347717),\n",
       " ('viuda', 0.8557067513465881),\n",
       " ('casada', 0.8546223044395447)]"
      ]
     },
     "execution_count": 6,
     "metadata": {},
     "output_type": "execute_result"
    }
   ],
   "source": [
    "wordvectors.most_similar_cosmul(positive=['hijo','mujer'],negative=['hombre'])"
   ]
  },
  {
   "cell_type": "code",
   "execution_count": 7,
   "metadata": {},
   "outputs": [
    {
     "data": {
      "text/plain": [
       "[('nuera', 0.9055585861206055),\n",
       " ('cuñada', 0.8592773079872131),\n",
       " ('esther', 0.8199110627174377),\n",
       " ('sobrina', 0.8171849846839905),\n",
       " ('suegra', 0.8157253265380859),\n",
       " ('hija', 0.8014461398124695),\n",
       " ('infanta', 0.8008802533149719),\n",
       " ('esposa', 0.8008227944374084),\n",
       " ('nieta', 0.7964767813682556),\n",
       " ('cuñado', 0.7955604195594788)]"
      ]
     },
     "execution_count": 7,
     "metadata": {},
     "output_type": "execute_result"
    }
   ],
   "source": [
    "wordvectors.most_similar_cosmul(positive=['yerno','mujer'],negative=['hombre'])"
   ]
  },
  {
   "cell_type": "markdown",
   "metadata": {},
   "source": [
    "### Ejemplos considerando conjugaciones"
   ]
  },
  {
   "cell_type": "code",
   "execution_count": 8,
   "metadata": {},
   "outputs": [
    {
     "data": {
      "text/plain": [
       "[('juega', 0.8944003582000732),\n",
       " ('jugando', 0.8376926183700562),\n",
       " ('jugará', 0.834348201751709),\n",
       " ('jugador', 0.8295056819915771),\n",
       " ('jugó', 0.8156978487968445),\n",
       " ('jugado', 0.8147079348564148),\n",
       " ('futbolista', 0.7927162647247314),\n",
       " ('juegue', 0.7921290397644043),\n",
       " ('fútbol', 0.7888965606689453),\n",
       " ('juegan', 0.7832154631614685)]"
      ]
     },
     "execution_count": 8,
     "metadata": {},
     "output_type": "execute_result"
    }
   ],
   "source": [
    "wordvectors.most_similar_cosmul(positive=['jugar','canta'],negative=['cantar'])"
   ]
  },
  {
   "cell_type": "code",
   "execution_count": 9,
   "metadata": {},
   "outputs": [
    {
     "data": {
      "text/plain": [
       "[('jugaría', 0.8204259276390076),\n",
       " ('jugará', 0.7848052382469177),\n",
       " ('juegue', 0.7704501152038574),\n",
       " ('jugara', 0.7684974670410156),\n",
       " ('ganamos', 0.7370696067810059),\n",
       " ('disputaría', 0.7334685325622559),\n",
       " ('perderá', 0.7326226234436035),\n",
       " ('lesionó', 0.723604679107666),\n",
       " ('perdería', 0.7234238386154175),\n",
       " ('jugó', 0.7223093509674072)]"
      ]
     },
     "execution_count": 9,
     "metadata": {},
     "output_type": "execute_result"
    }
   ],
   "source": [
    "wordvectors.most_similar_cosmul(positive=['jugar','cantaría'],negative=['cantar'])"
   ]
  },
  {
   "cell_type": "code",
   "execution_count": 10,
   "metadata": {},
   "outputs": [
    {
     "data": {
      "text/plain": [
       "[('yendo', 0.881558895111084),\n",
       " ('llevando', 0.8737362623214722),\n",
       " ('ido', 0.8687229156494141),\n",
       " ('saliendo', 0.8531793355941772),\n",
       " ('seguir', 0.8456405997276306),\n",
       " ('haciendo', 0.8450909852981567),\n",
       " ('va', 0.8442757725715637),\n",
       " ('vaya', 0.838218629360199),\n",
       " ('dando', 0.8275400996208191),\n",
       " ('estamos', 0.8271223306655884)]"
      ]
     },
     "execution_count": 10,
     "metadata": {},
     "output_type": "execute_result"
    }
   ],
   "source": [
    "wordvectors.most_similar_cosmul(positive=['ir','jugando'],negative=['jugar'])"
   ]
  },
  {
   "cell_type": "markdown",
   "metadata": {},
   "source": [
    "### Ejemplos capitales y países"
   ]
  },
  {
   "cell_type": "code",
   "execution_count": 15,
   "metadata": {},
   "outputs": [
    {
     "data": {
      "text/plain": [
       "[('caracas', 0.8996074795722961),\n",
       " ('bolívar', 0.8295609354972839),\n",
       " ('mérida', 0.8287113308906555),\n",
       " ('maracaibo', 0.826995849609375),\n",
       " ('miranda', 0.8242772817611694),\n",
       " ('santa', 0.8197780847549438),\n",
       " ('trujillo', 0.8175155520439148),\n",
       " ('pérez', 0.8143640756607056),\n",
       " ('rafael', 0.8114412426948547),\n",
       " ('lara', 0.8102367520332336)]"
      ]
     },
     "execution_count": 15,
     "metadata": {},
     "output_type": "execute_result"
    }
   ],
   "source": [
    "wordvectors.most_similar_cosmul(positive=['santiago','venezuela'],negative=['chile'])"
   ]
  },
  {
   "cell_type": "code",
   "execution_count": 16,
   "metadata": {},
   "outputs": [
    {
     "data": {
      "text/plain": [
       "[('cuba', 0.9782935380935669),\n",
       " ('venezuela', 0.8504070043563843),\n",
       " ('bolivia', 0.8276636600494385),\n",
       " ('rica', 0.8253333568572998),\n",
       " ('colombia', 0.819764256477356),\n",
       " ('cubana', 0.8174163699150085),\n",
       " ('argentina', 0.8128121495246887),\n",
       " ('brasil', 0.8126526474952698),\n",
       " ('panamá', 0.8123562932014465),\n",
       " ('nicaragua', 0.8074418306350708)]"
      ]
     },
     "execution_count": 16,
     "metadata": {},
     "output_type": "execute_result"
    }
   ],
   "source": [
    "wordvectors.most_similar_cosmul(positive=['habana','chile'],negative=['santiago'])"
   ]
  },
  {
   "cell_type": "markdown",
   "metadata": {},
   "source": [
    "## Word vectors en términos excluídos\n",
    "\n",
    "Ejemplo de uso: `doesnt_match(lista_palabras)`\n",
    "\n",
    "Esta llamada selecciona la palabra dentro de `listas_palabras` que está más lejana del resto de las palabras de la lista. La distancia es simplemente el ángulo entre las direcciones de los vectores de las palabras."
   ]
  },
  {
   "cell_type": "code",
   "execution_count": 17,
   "metadata": {},
   "outputs": [
    {
     "data": {
      "text/plain": [
       "'chile'"
      ]
     },
     "execution_count": 17,
     "metadata": {},
     "output_type": "execute_result"
    }
   ],
   "source": [
    "wordvectors.doesnt_match(['blanco','azul','rojo','chile'])"
   ]
  },
  {
   "cell_type": "code",
   "execution_count": 18,
   "metadata": {},
   "outputs": [
    {
     "data": {
      "text/plain": [
       "'jupiter'"
      ]
     },
     "execution_count": 18,
     "metadata": {},
     "output_type": "execute_result"
    }
   ],
   "source": [
    "wordvectors.doesnt_match(['sol','luna','almuerzo','jupiter'])"
   ]
  },
  {
   "cell_type": "code",
   "execution_count": 19,
   "metadata": {},
   "outputs": [
    {
     "data": {
      "text/plain": [
       "'martes'"
      ]
     },
     "execution_count": 19,
     "metadata": {},
     "output_type": "execute_result"
    }
   ],
   "source": [
    "wordvectors.doesnt_match(['abril', 'mayo', 'septiembre', 'martes', 'julio'])"
   ]
  },
  {
   "cell_type": "code",
   "execution_count": 20,
   "metadata": {},
   "outputs": [
    {
     "data": {
      "text/plain": [
       "'septiembre'"
      ]
     },
     "execution_count": 20,
     "metadata": {},
     "output_type": "execute_result"
    }
   ],
   "source": [
    "wordvectors.doesnt_match(['lunes', 'martes', 'septiembre', 'jueves', 'viernes'])"
   ]
  },
  {
   "cell_type": "code",
   "execution_count": 21,
   "metadata": {},
   "outputs": [
    {
     "data": {
      "text/plain": [
       "'talca'"
      ]
     },
     "execution_count": 21,
     "metadata": {},
     "output_type": "execute_result"
    }
   ],
   "source": [
    "wordvectors.doesnt_match(['everton', 'cobreloa', 'huachipato', 'talca'])"
   ]
  },
  {
   "cell_type": "code",
   "execution_count": 22,
   "metadata": {},
   "outputs": [
    {
     "data": {
      "text/plain": [
       "'concepcion'"
      ]
     },
     "execution_count": 22,
     "metadata": {},
     "output_type": "execute_result"
    }
   ],
   "source": [
    "wordvectors.doesnt_match(['santiago', 'paris', 'talca', 'concepcion'])"
   ]
  },
  {
   "cell_type": "code",
   "execution_count": 23,
   "metadata": {},
   "outputs": [
    {
     "data": {
      "text/plain": [
       "'talca'"
      ]
     },
     "execution_count": 23,
     "metadata": {},
     "output_type": "execute_result"
    }
   ],
   "source": [
    "wordvectors.doesnt_match(['talca', 'paris', 'londres'])"
   ]
  }
 ],
 "metadata": {
  "kernelspec": {
   "display_name": "Python 3",
   "language": "python",
   "name": "python3"
  },
  "language_info": {
   "codemirror_mode": {
    "name": "ipython",
    "version": 3
   },
   "file_extension": ".py",
   "mimetype": "text/x-python",
   "name": "python",
   "nbconvert_exporter": "python",
   "pygments_lexer": "ipython3",
   "version": "3.6.0"
  }
 },
 "nbformat": 4,
 "nbformat_minor": 2
}
